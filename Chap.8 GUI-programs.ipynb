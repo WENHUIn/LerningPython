{
 "cells": [
  {
   "cell_type": "code",
   "execution_count": 28,
   "metadata": {},
   "outputs": [],
   "source": [
    "#17 change button color&text 改变按钮字体颜色及字体内容\n",
    "from tkinter import *\n",
    "window = Tk()\n",
    "window.title(\"Change colors\")\n",
    "def change():\n",
    "    if bt[\"fg\"] ==\"blue\":\n",
    "        bt[\"fg\"] =\"black\"\n",
    "        bt[\"text\"] = \"CHANGE COLOR OF TEXT TO BLUE\"\n",
    "    else:\n",
    "        bt[\"fg\"] = \"blue\"\n",
    "        bt[\"text\"] = \"CHANGE COLOR OF TEXT TO BLACK\"\n",
    "bt = Button(window,text=\"CHANGE COLOR OF TEXT TO BLACK\",fg=\"blue\",command=change)\n",
    "bt.grid(padx=50,pady=10)\n",
    "window.mainloop() "
   ]
  },
  {
   "cell_type": "code",
   "execution_count": 58,
   "metadata": {},
   "outputs": [],
   "source": [
    "## writingGUIprogram\n",
    "from tkinter import *\n",
    "def findLargest():\n",
    "    L=[]\n",
    "    L.append(eval(conOFentNum1.get()))\n",
    "    L.append(eval(conOFentNum2.get()))\n",
    "    L.append(eval(conOFentNum3.get()))\n",
    "    conOFentLargest.set(max(L))\n",
    "window = Tk()\n",
    "window.title(\"Largest Number\")\n",
    "Label(window, text=\"First number: \").grid(row=0, column=0, pady=5, sticky=E)\n",
    "conOFentNum1 = StringVar()\n",
    "ententNum1 = Entry(window, width=8, textvariable=conOFentNum1)\n",
    "ententNum1.grid(row=0, column=1, sticky=W)\n",
    "Label(window, text=\"Second number: \").grid(row=1, column=0, pady=5, sticky=E)\n",
    "conOFentNum2 = StringVar()\n",
    "ententNum2 = Entry(window, width=8, textvariable=conOFentNum2)\n",
    "ententNum2.grid(row=1, column=1, sticky=W)\n",
    "Label(window, text=\"Third number: \").grid(row=2, column=0, pady=5, sticky=E)\n",
    "conOFentNum3 = StringVar()\n",
    "ententNum3 = Entry(window, width=8, textvariable=conOFentNum3)\n",
    "ententNum3.grid(row=2, column=1, sticky=W)\n",
    "btnFind = Button(window, text=\"Find the Largest Number\", command=findLargest)\n",
    "btnFind.grid(row=3, column=0, columnspan=2, padx=75)\n",
    "Label(window, text=\"Largest number: \").grid(row=4, column=0, sticky=E)\n",
    "conOFentLargest = StringVar()\n",
    "entLargest = Entry(window, state=\"readonly\", width=8,\n",
    "textvariable=conOFentLargest)\n",
    "entLargest.grid(row=4, column=1, pady=5, sticky=W)\n",
    "window.mainloop()"
   ]
  },
  {
   "cell_type": "code",
   "execution_count": 60,
   "metadata": {},
   "outputs": [],
   "source": [
    "# statebirds\n",
    "from tkinter import *\n",
    "def displayBirds():\n",
    "    infile = open(\"StateBirds.txt\", 'r')\n",
    "    birdSet = {line.split(',')[1].rstrip() for line in infile}\n",
    "    infile.close()\n",
    "    conOFlstBirds.set(tuple(sorted(birdSet))) # sorted(birdSet) is a list\n",
    "    numBirds = len(birdSet)\n",
    "    conOFentNumBirds.set(numBirds)\n",
    "window = Tk()\n",
    "window.title(\"State Birds\")\n",
    "textForButton = \"Display the Different State Birds\"\n",
    "btnDisplay = Button(window, text=textForButton, command=displayBirds)\n",
    "btnDisplay.grid(row=0, column=0, columnspan=3, pady=5)\n",
    "yscroll = Scrollbar(window, orient=VERTICAL)\n",
    "yscroll.grid(row=1, column=1, rowspan=10, pady=(0,5), sticky=NS)\n",
    "conOFlstBirds = StringVar()\n",
    "lstBirds = Listbox(window, width=20, height=8, listvariable=conOFlstBirds,\n",
    "yscrollcommand=yscroll.set)\n",
    "lstBirds.grid(row=1, column=0, padx=(5,0), pady=(0,5), rowspan=10)\n",
    "yscroll[\"command\"] = lstBirds.yview\n",
    "textForLabel = \"Number of\\ndifferent\\nstate birds:\"\n",
    "Label(window, text=textForLabel).grid(row=1, column=2, padx=10, pady=5)\n",
    "conOFentNumBirds = StringVar()\n",
    "entNumBirds = Entry(window, width=2, state=\"readonly\",\n",
    "textvariable=conOFentNumBirds)\n",
    "entNumBirds.grid(row=2, column=2)\n",
    "window.mainloop()"
   ]
  }
 ],
 "metadata": {
  "kernelspec": {
   "display_name": "Python 3",
   "language": "python",
   "name": "python3"
  },
  "language_info": {
   "codemirror_mode": {
    "name": "ipython",
    "version": 3
   },
   "file_extension": ".py",
   "mimetype": "text/x-python",
   "name": "python",
   "nbconvert_exporter": "python",
   "pygments_lexer": "ipython3",
   "version": "3.7.2"
  }
 },
 "nbformat": 4,
 "nbformat_minor": 2
}
